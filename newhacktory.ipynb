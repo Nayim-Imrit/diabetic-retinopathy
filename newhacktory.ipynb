{
 "cells": [
  {
   "cell_type": "code",
   "execution_count": 25,
   "metadata": {},
   "outputs": [],
   "source": [
    "import numpy as np\n",
    "from keras.layers import Input\n",
    "from keras.models import Sequential\n",
    "from keras.layers import Convolution2D\n",
    "from keras.models import Model\n",
    "from keras.layers import GlobalAveragePooling2D,MaxPooling2D\n",
    "from keras.layers import Dense,Flatten,SpatialDropout2D\n",
    "from keras.layers.merge import concatenate\n",
    "\n",
    "from keras.callbacks import EarlyStopping, ModelCheckpoint\n",
    "from keras.callbacks import History\n",
    "import matplotlib.pyplot as plt\n",
    "from sklearn.metrics import confusion_matrix\n",
    "import pandas as pd\n",
    "%matplotlib inline"
   ]
  },
  {
   "cell_type": "code",
   "execution_count": 26,
   "metadata": {},
   "outputs": [],
   "source": [
    "image_size = (64, 64)"
   ]
  },
  {
   "cell_type": "code",
   "execution_count": 27,
   "metadata": {},
   "outputs": [],
   "source": [
    "def plot_model_history(history):\n",
    "    \"\"\"\n",
    "    Function to plot training and validation data of model\n",
    "    \n",
    "    Parameters\n",
    "    ----------\n",
    "    history: dictionary\n",
    "             history of training and validation of model\n",
    "    Returns\n",
    "    -------\n",
    "    None\n",
    "    \n",
    "    \"\"\"\n",
    "    print(history.history.keys())\n",
    "    # summarize history for accuracy\n",
    "    plt.plot(history.history['accuracy'])\n",
    "    plt.plot(history.history['val_accuracy'])\n",
    "    plt.title('model accuracy')\n",
    "    plt.ylabel('accuracy')\n",
    "    plt.xlabel('epoch')\n",
    "    plt.legend(['train', 'test'], loc='upper left')\n",
    "    plt.show()\n",
    "    # summarize history for loss\n",
    "    plt.plot(history.history['loss'])\n",
    "    plt.plot(history.history['val_loss'])\n",
    "    plt.title('model loss')\n",
    "    plt.ylabel('loss')\n",
    "    plt.xlabel('epoch')\n",
    "    plt.legend(['train', 'test'], loc='upper left')\n",
    "    plt.show()"
   ]
  },
  {
   "cell_type": "code",
   "execution_count": 28,
   "metadata": {},
   "outputs": [],
   "source": [
    "def buildNet(num_classes):\n",
    "    \"\"\"\n",
    "    Function to build 4 layer NN with 2 Conv layers, 1 MaxPool layer,\n",
    "    1 GlobalMaxPool layer and 2 Dense layers\n",
    "    \n",
    "    Parameters\n",
    "    ----------\n",
    "    num_classes: int\n",
    "                 Number of classes in training data\n",
    "    Returns\n",
    "    -------\n",
    "    Neural Network created\n",
    "    \"\"\"\n",
    "    model1=Sequential()\n",
    "    model1.add(Convolution2D(32, (3,3),input_shape=(image_size[0], image_size[1], 3),activation='relu'))\n",
    "    model1.add(MaxPooling2D(pool_size=(2,2)))\n",
    "    model1.add(Convolution2D(64,(3,3),activation='relu'))\n",
    "    model1.add(GlobalAveragePooling2D())\n",
    "\n",
    "    model1.add(Dense(128, activation='relu'))\n",
    "    model1.add(Dense(1, activation='sigmoid'))\n",
    "    model1.compile(loss='binary_crossentropy', optimizer='adam', metrics=['accuracy'])\n",
    "    print(model1.summary())\n",
    "    return model1"
   ]
  },
  {
   "cell_type": "code",
   "execution_count": 29,
   "metadata": {},
   "outputs": [],
   "source": [
    "def trainNet(training_set, validation_set):\n",
    "    \"\"\"\n",
    "    Function to train Neural Network Created, save it as hd5 and plot the various parameters.\n",
    "    \n",
    "    Arguments\n",
    "    ---------\n",
    "    training_set:   ImageDataGenerator object\n",
    "                    Training set with labels.\n",
    "    validation_set: ImageDataGenerator object\n",
    "                    Validation set with labels.\n",
    "    \n",
    "    Returns\n",
    "    -------\n",
    "    history: dictionary\n",
    "             History of training and validation of model.\n",
    "    \"\"\"\n",
    "    num_classes = 1#y_train.shape[1]\n",
    "    model = buildNet(num_classes)\n",
    "    history = History()\n",
    "    callbacks = [EarlyStopping(monitor='val_loss', patience=5),\n",
    "             ModelCheckpoint(filepath='best_model.h5', monitor='val_loss', save_best_only=True),history]\n",
    "    \n",
    "    history = model.fit_generator(training_set,\n",
    "                                  \n",
    "                                steps_per_epoch = 8000/32,\n",
    "                                epochs = 15,\n",
    "                                validation_data = validation_set,\n",
    "                                validation_steps = 64,\n",
    "                                workers = 8)\n",
    "    model.save('model.hd5')\n",
    "    plot_model_history(history)\n",
    "\n",
    "    #model.fit(X_train, y_train, validation_data=(X_val, y_val), epochs=30, batch_size=100,callbacks=callbacks,verbose=1)\n",
    "    return history"
   ]
  },
  {
   "cell_type": "code",
   "execution_count": 30,
   "metadata": {},
   "outputs": [],
   "source": [
    "from keras.preprocessing.image import ImageDataGenerator"
   ]
  },
  {
   "cell_type": "markdown",
   "metadata": {},
   "source": [
    "Reading the images using the Image Generator."
   ]
  },
  {
   "cell_type": "code",
   "execution_count": 31,
   "metadata": {},
   "outputs": [],
   "source": [
    "test1_datagen = ImageDataGenerator()"
   ]
  },
  {
   "cell_type": "code",
   "execution_count": 46,
   "metadata": {},
   "outputs": [
    {
     "name": "stdout",
     "output_type": "stream",
     "text": [
      "Found 1501 images belonging to 2 classes.\n"
     ]
    }
   ],
   "source": [
    "test1_generator = test1_datagen.flow_from_directory(\n",
    "        directory='final/',\n",
    "        target_size=image_size,\n",
    "        class_mode='binary')"
   ]
  },
  {
   "cell_type": "code",
   "execution_count": 33,
   "metadata": {},
   "outputs": [
    {
     "name": "stdout",
     "output_type": "stream",
     "text": [
      "Found 1468 images belonging to 2 classes.\n",
      "Found 595 images belonging to 2 classes.\n"
     ]
    }
   ],
   "source": [
    "train_datagen = ImageDataGenerator(rescale = 1./255)\n",
    "\n",
    "test_datagen = ImageDataGenerator(rescale = 1./255)\n",
    "\n",
    "\n",
    "training_set = train_datagen.flow_from_directory('dataset/nosymptoms/',\n",
    "                                                 target_size = image_size,\n",
    "                                                 batch_size = 32,\n",
    "                                                 class_mode = 'binary')\n",
    "\n",
    "validation_set = test_datagen.flow_from_directory('dataset/symptoms/',\n",
    "                                                  target_size = image_size,\n",
    "                                                  batch_size = 32,\n",
    "                                                  class_mode = 'binary', shuffle=False)\n"
   ]
  },
  {
   "cell_type": "code",
   "execution_count": 34,
   "metadata": {},
   "outputs": [
    {
     "name": "stdout",
     "output_type": "stream",
     "text": [
      "Model: \"sequential_3\"\n",
      "_________________________________________________________________\n",
      "Layer (type)                 Output Shape              Param #   \n",
      "=================================================================\n",
      "conv2d_6 (Conv2D)            (None, 62, 62, 32)        896       \n",
      "_________________________________________________________________\n",
      "max_pooling2d_3 (MaxPooling2 (None, 31, 31, 32)        0         \n",
      "_________________________________________________________________\n",
      "conv2d_7 (Conv2D)            (None, 29, 29, 64)        18496     \n",
      "_________________________________________________________________\n",
      "global_average_pooling2d_3 ( (None, 64)                0         \n",
      "_________________________________________________________________\n",
      "dense_6 (Dense)              (None, 128)               8320      \n",
      "_________________________________________________________________\n",
      "dense_7 (Dense)              (None, 1)                 129       \n",
      "=================================================================\n",
      "Total params: 27,841\n",
      "Trainable params: 27,841\n",
      "Non-trainable params: 0\n",
      "_________________________________________________________________\n",
      "None\n",
      "Epoch 1/15\n",
      "250/250 [==============================] - 157s 630ms/step - loss: 0.6901 - accuracy: 0.5416 - val_loss: 0.6886 - val_accuracy: 0.5550\n",
      "Epoch 2/15\n",
      "250/250 [==============================] - 155s 621ms/step - loss: 0.6890 - accuracy: 0.5386 - val_loss: 0.6864 - val_accuracy: 0.5550\n",
      "Epoch 3/15\n",
      "250/250 [==============================] - 155s 620ms/step - loss: 0.6807 - accuracy: 0.5569 - val_loss: 0.6792 - val_accuracy: 0.5724\n",
      "Epoch 4/15\n",
      "250/250 [==============================] - 157s 627ms/step - loss: 0.6636 - accuracy: 0.5990 - val_loss: 0.6761 - val_accuracy: 0.5844\n",
      "Epoch 5/15\n",
      "250/250 [==============================] - 155s 621ms/step - loss: 0.6401 - accuracy: 0.6404 - val_loss: 0.6703 - val_accuracy: 0.6401\n",
      "Epoch 6/15\n",
      "250/250 [==============================] - 156s 624ms/step - loss: 0.6178 - accuracy: 0.6668 - val_loss: 0.6670 - val_accuracy: 0.6471\n",
      "Epoch 7/15\n",
      "250/250 [==============================] - 155s 621ms/step - loss: 0.5961 - accuracy: 0.7003 - val_loss: 0.7015 - val_accuracy: 0.6496\n",
      "Epoch 8/15\n",
      "250/250 [==============================] - 155s 621ms/step - loss: 0.5846 - accuracy: 0.7085 - val_loss: 0.6476 - val_accuracy: 0.7068\n",
      "Epoch 9/15\n",
      "250/250 [==============================] - 156s 625ms/step - loss: 0.5703 - accuracy: 0.7251 - val_loss: 0.6501 - val_accuracy: 0.6969\n",
      "Epoch 10/15\n",
      "250/250 [==============================] - 155s 619ms/step - loss: 0.5519 - accuracy: 0.7416 - val_loss: 0.6351 - val_accuracy: 0.7138\n",
      "Epoch 11/15\n",
      "250/250 [==============================] - 156s 624ms/step - loss: 0.5422 - accuracy: 0.7429 - val_loss: 0.6244 - val_accuracy: 0.7342\n",
      "Epoch 12/15\n",
      "250/250 [==============================] - 155s 621ms/step - loss: 0.5349 - accuracy: 0.7464 - val_loss: 0.6112 - val_accuracy: 0.7357\n",
      "Epoch 13/15\n",
      "250/250 [==============================] - 155s 621ms/step - loss: 0.5103 - accuracy: 0.7697 - val_loss: 0.5966 - val_accuracy: 0.7402\n",
      "Epoch 14/15\n",
      "250/250 [==============================] - 157s 627ms/step - loss: 0.4961 - accuracy: 0.7765 - val_loss: 0.5913 - val_accuracy: 0.7232\n",
      "Epoch 15/15\n",
      "250/250 [==============================] - 157s 628ms/step - loss: 0.4724 - accuracy: 0.7926 - val_loss: 0.5517 - val_accuracy: 0.7611\n",
      "INFO:tensorflow:Assets written to: model.hd5\\assets\n",
      "dict_keys(['loss', 'accuracy', 'val_loss', 'val_accuracy'])\n"
     ]
    },
    {
     "data": {
      "image/png": "[encoded data removed]",
      "text/plain": [
       "<Figure size 432x288 with 1 Axes>"
      ]
     },
     "metadata": {
      "needs_background": "light"
     },
     "output_type": "display_data"
    },
    {
     "data": {
      "image/png": "[encoded data removed]",
      "text/plain": [
       "<Figure size 432x288 with 1 Axes>"
      ]
     },
     "metadata": {
      "needs_background": "light"
     },
     "output_type": "display_data"
    }
   ],
   "source": [
    "history = trainNet(training_set=training_set, validation_set=validation_set)"
   ]
  },
  {
   "cell_type": "markdown",
   "metadata": {},
   "source": []
  },
  {
   "cell_type": "code",
   "execution_count": 35,
   "metadata": {},
   "outputs": [],
   "source": [
    "from keras.models import load_model\n",
    "mod=load_model('model.hd5')"
   ]
  },
  {
   "cell_type": "markdown",
   "metadata": {},
   "source": [
    "Function to predic the image that is uploaded."
   ]
  },
  {
   "cell_type": "code",
   "execution_count": 47,
   "metadata": {},
   "outputs": [],
   "source": [
    "def result():\n",
    "    \n",
    "    \"\"\"\n",
    "    Function to predict if the retina image has diabetic retinopathy or not.\n",
    "    \n",
    "    Parameters\n",
    "    ----------\n",
    "    None\n",
    "    \n",
    "    Returns\n",
    "    -------\n",
    "    y_pred: bool\n",
    "            Whether or not the retina has diabetic retinopathy.\n",
    "    percent_chance: float\n",
    "            Percentage of chance the retina image has diabetic retinopathy.\n",
    "    \"\"\"\n",
    "    \n",
    "    mod=load_model('model.hd5')\n",
    "\n",
    "    test_gen = ImageDataGenerator(rescale = 1./255)\n",
    "\n",
    "    test_data = test_gen.flow_from_directory('final/',\n",
    "                                              target_size = (64, 64),\n",
    "                                              batch_size = 32,\n",
    "                                              class_mode = 'binary', shuffle=False)\n",
    "    predicted = mod.predict_generator(test_data)\n",
    "    \n",
    "    y_pred = predicted[0][0] > 0.4\n",
    "    percent_chance = round(predicted[0][0]*100, 2)\n",
    "    \n",
    "    return y_pred, percent_chance\n"
   ]
  },
  {
   "cell_type": "code",
   "execution_count": 48,
   "metadata": {},
   "outputs": [
    {
     "ename": "NameError",
     "evalue": "name 'test_data' is not defined",
     "output_type": "error",
     "traceback": [
      "\u001b[1;31m---------------------------------------------------------------------------\u001b[0m",
      "\u001b[1;31mNameError\u001b[0m                                 Traceback (most recent call last)",
      "\u001b[1;32m<ipython-input-48-8eb99955d81b>\u001b[0m in \u001b[0;36m<module>\u001b[1;34m\u001b[0m\n\u001b[1;32m----> 1\u001b[1;33m \u001b[0mmod\u001b[0m\u001b[1;33m.\u001b[0m\u001b[0mpredict_generator\u001b[0m\u001b[1;33m(\u001b[0m\u001b[0mtest_data\u001b[0m\u001b[1;33m)\u001b[0m\u001b[1;33m\u001b[0m\u001b[1;33m\u001b[0m\u001b[0m\n\u001b[0m",
      "\u001b[1;31mNameError\u001b[0m: name 'test_data' is not defined"
     ]
    }
   ],
   "source": [
    "mod.predict_generator(test_data)"
   ]
  },
  {
   "cell_type": "code",
   "execution_count": null,
   "metadata": {},
   "outputs": [],
   "source": []
  }
 ],
 "metadata": {
  "kernelspec": {
   "display_name": "Python 3",
   "language": "python",
   "name": "python3"
  },
  "language_info": {
   "codemirror_mode": {
    "name": "ipython",
    "version": 3
   },
   "file_extension": ".py",
   "mimetype": "text/x-python",
   "name": "python",
   "nbconvert_exporter": "python",
   "pygments_lexer": "ipython3",
   "version": "3.8.10"
  }
 },
 "nbformat": 4,
 "nbformat_minor": 2
}
